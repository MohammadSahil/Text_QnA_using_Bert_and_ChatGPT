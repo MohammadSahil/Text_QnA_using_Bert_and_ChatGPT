{
 "cells": [
  {
   "cell_type": "markdown",
   "metadata": {},
   "source": [
    "# Building Robust Large Text Q&A Systems with BERT and ChatGPT 3.5 Turbo"
   ]
  },
  {
   "cell_type": "markdown",
   "metadata": {},
   "source": [
    "In this Notebook we're working on Knowledge Base Creation and Storing the embeddings into disk."
   ]
  },
  {
   "cell_type": "code",
   "execution_count": 2,
   "metadata": {},
   "outputs": [
    {
     "name": "stderr",
     "output_type": "stream",
     "text": [
      "c:\\Users\\User\\Desktop\\text qna\\env\\lib\\site-packages\\tqdm\\auto.py:21: TqdmWarning: IProgress not found. Please update jupyter and ipywidgets. See https://ipywidgets.readthedocs.io/en/stable/user_install.html\n",
      "  from .autonotebook import tqdm as notebook_tqdm\n"
     ]
    }
   ],
   "source": [
    "import torch\n",
    "from tqdm import tqdm\n",
    "from transformers import BertTokenizer, BertModel\n",
    "import numpy as np\n",
    "import openai\n",
    "import os"
   ]
  },
  {
   "cell_type": "markdown",
   "metadata": {},
   "source": [
    "# Extracting Text"
   ]
  },
  {
   "cell_type": "markdown",
   "metadata": {},
   "source": [
    "For this example we are taking text from the well known book called Harry Potter and the Chamber of Secrets.\n",
    "You can find it from the Data folder."
   ]
  },
  {
   "cell_type": "code",
   "execution_count": 7,
   "metadata": {},
   "outputs": [],
   "source": [
    "with open(r'C:\\Users\\User\\Desktop\\text qna\\data\\Harry_Potter_and_the_Chamber_of_Secrets.txt', 'r', encoding='utf-8') as f:\n",
    "    text = f.read()"
   ]
  },
  {
   "cell_type": "markdown",
   "metadata": {},
   "source": []
  },
  {
   "cell_type": "markdown",
   "metadata": {},
   "source": [
    "A. Making Sentences"
   ]
  },
  {
   "cell_type": "code",
   "execution_count": 8,
   "metadata": {},
   "outputs": [],
   "source": [
    "def make_sentences(text):\n",
    "    list_of_sentences = []\n",
    "    sentences = text.split('.')\n",
    "    for sentence in sentences:\n",
    "        list_of_sentences.append(sentence)\n",
    "    return list_of_sentences"
   ]
  },
  {
   "cell_type": "markdown",
   "metadata": {},
   "source": [
    "B. Making Paragraphs"
   ]
  },
  {
   "cell_type": "code",
   "execution_count": null,
   "metadata": {},
   "outputs": [],
   "source": [
    "def make_paragraphs(text, chunk_size=500, overlap=50):\n",
    "    words = text.split()\n",
    "    chunks = [words[i:i+chunk_size] for i in range(0, len(words), chunk_size-overlap)]\n",
    "    return [' '.join(chunk) for chunk in chunks]"
   ]
  },
  {
   "cell_type": "markdown",
   "metadata": {},
   "source": [
    "C. Making Embeddings"
   ]
  },
  {
   "cell_type": "code",
   "execution_count": null,
   "metadata": {},
   "outputs": [],
   "source": [
    "def make_embeddings(text):\n",
    "    \n",
    "    #making chunks of text\n",
    "    sentences = make_sentences(text)\n",
    "    paragraphs = make_paragraphs(text)\n",
    "    \n",
    "    # Load pre-trained BERT model and tokenizer\n",
    "    tokenizer = BertTokenizer.from_pretrained('bert-base-uncased')\n",
    "    model = BertModel.from_pretrained('bert-base-uncased')\n",
    "    \n",
    "    # Preprocess chunks and convert to vectors using BERT\n",
    "    \n",
    "    #Making Sentence Embeddings\n",
    "    sentence_embeddings = []\n",
    "    for sentence in tqdm(sentences,desc=\"Creating Sentence Embeddings\"):\n",
    "      encoded_input = tokenizer(sentence, return_tensors='pt',max_length=512, truncation=True, padding='max_length')\n",
    "      with torch.no_grad():\n",
    "          model_output = model(**encoded_input)\n",
    "      embedding = torch.mean(model_output.last_hidden_state, dim=1).squeeze().numpy()\n",
    "      sentence_embeddings.append(embedding.tolist())\n",
    "    sentence_embedding_dict = dict(zip(sentences, sentence_embeddings))\n",
    "\n",
    "    #Making Paragraph Embeddings\n",
    "    paragraph_embeddings = []\n",
    "    for paragraph in tqdm(paragraphs,desc=\"Creating Paragraph Embeddings\"):\n",
    "      encoded_input = tokenizer(paragraph, return_tensors='pt',max_length=512, truncation=True, padding='max_length')\n",
    "      with torch.no_grad():\n",
    "          model_output = model(**encoded_input)\n",
    "      embedding = torch.mean(model_output.last_hidden_state, dim=1).squeeze().numpy()\n",
    "      paragraph_embeddings.append(embedding.tolist())\n",
    "    paragraph_embedding_dict = dict(zip(paragraphs, sentence_embeddings))\n",
    "    \n",
    "    return sentence_embedding_dict, paragraph_embedding_dict"
   ]
  },
  {
   "cell_type": "code",
   "execution_count": 9,
   "metadata": {},
   "outputs": [
    {
     "name": "stderr",
     "output_type": "stream",
     "text": [
      "Downloading model.safetensors: 100%|██████████| 440M/440M [02:27<00:00, 2.99MB/s] \n",
      "c:\\Users\\User\\Desktop\\text qna\\env\\lib\\site-packages\\huggingface_hub\\file_download.py:133: UserWarning: `huggingface_hub` cache-system uses symlinks by default to efficiently store duplicated files but your machine does not support them in C:\\Users\\User\\.cache\\huggingface\\hub. Caching files will still work but in a degraded version that might require more space on your disk. This warning can be disabled by setting the `HF_HUB_DISABLE_SYMLINKS_WARNING` environment variable. For more details, see https://huggingface.co/docs/huggingface_hub/how-to-cache#limitations.\n",
      "To support symlinks on Windows, you either need to activate Developer Mode or to run Python as an administrator. In order to see activate developer mode, see this article: https://docs.microsoft.com/en-us/windows/apps/get-started/enable-your-device-for-development\n",
      "  warnings.warn(message)\n",
      "Creating Sentence Embeddings: 100%|██████████| 6085/6085 [3:14:40<00:00,  1.92s/it]  \n",
      "Creating Paragraph Embeddings: 100%|██████████| 200/200 [04:28<00:00,  1.34s/it]\n"
     ]
    }
   ],
   "source": [
    "#Making Embeddings\n",
    "sentence_embeddings, paragraphs_embeddings = make_embeddings(text)"
   ]
  },
  {
   "cell_type": "markdown",
   "metadata": {},
   "source": [
    "D. Storing the embeddings into disk"
   ]
  },
  {
   "cell_type": "code",
   "execution_count": 11,
   "metadata": {},
   "outputs": [],
   "source": [
    "import json\n",
    "with open(r'C:\\Users\\User\\Desktop\\text qna\\embeddings\\sentence_embeddings.json', \"w\") as json_file:\n",
    "    json.dump(sentence_embeddings, json_file)\n",
    "    \n",
    "with open(r'C:\\Users\\User\\Desktop\\text qna\\embeddings\\paragraph_embeddings.json', \"w\") as json_file:\n",
    "    json.dump(paragraphs_embeddings, json_file)"
   ]
  },
  {
   "cell_type": "code",
   "execution_count": null,
   "metadata": {},
   "outputs": [],
   "source": []
  }
 ],
 "metadata": {
  "kernelspec": {
   "display_name": "Python 3 (ipykernel)",
   "language": "python",
   "name": "python3"
  },
  "language_info": {
   "codemirror_mode": {
    "name": "ipython",
    "version": 3
   },
   "file_extension": ".py",
   "mimetype": "text/x-python",
   "name": "python",
   "nbconvert_exporter": "python",
   "pygments_lexer": "ipython3",
   "version": "3.10.4"
  }
 },
 "nbformat": 4,
 "nbformat_minor": 2
}
