{
 "cells": [
  {
   "cell_type": "markdown",
   "metadata": {},
   "source": [
    "# Building Robust Large Text Q&A Systems with BERT and ChatGPT 3.5 Turbo"
   ]
  },
  {
   "cell_type": "markdown",
   "metadata": {},
   "source": [
    "In this Notebook we're working on querying the embeddings and get the final answer using chatgpt chat completion"
   ]
  },
  {
   "cell_type": "markdown",
   "metadata": {},
   "source": [
    "# Now Answering the user's query"
   ]
  },
  {
   "cell_type": "code",
   "execution_count": 7,
   "metadata": {},
   "outputs": [],
   "source": [
    "import torch\n",
    "from tqdm import tqdm\n",
    "from transformers import BertTokenizer, BertModel\n",
    "import numpy as np\n",
    "import openai\n",
    "import os\n",
    "import json"
   ]
  },
  {
   "cell_type": "markdown",
   "metadata": {},
   "source": [
    "A. Taking user's query and making Embeddings of user's query"
   ]
  },
  {
   "cell_type": "code",
   "execution_count": 2,
   "metadata": {},
   "outputs": [],
   "source": [
    "def create_query_embedding(query):\n",
    "    tokenizer = BertTokenizer.from_pretrained('bert-base-uncased')\n",
    "    model = BertModel.from_pretrained('bert-base-uncased')\n",
    "    \n",
    "    encoded_input = tokenizer(query, return_tensors='pt', max_length=512, truncation=True, padding='max_length')\n",
    "    with torch.no_grad():\n",
    "        model_output = model(**encoded_input)\n",
    "    query_embedding = torch.mean(model_output.last_hidden_state, dim=1).squeeze().numpy()\n",
    "    return query_embedding\n"
   ]
  },
  {
   "cell_type": "markdown",
   "metadata": {},
   "source": [
    "B. Computing Cosine Similarity and Getting top similar sentences and paragraphs"
   ]
  },
  {
   "cell_type": "code",
   "execution_count": 9,
   "metadata": {},
   "outputs": [],
   "source": [
    "def get_similar_sentence_paragraphs(query):\n",
    "    query_embedding= create_query_embedding(query)\n",
    "\n",
    "    # Load pre-trained BERT model and tokenizer\n",
    "    tokenizer = BertTokenizer.from_pretrained('bert-base-uncased')\n",
    "    model = BertModel.from_pretrained('bert-base-uncased')\n",
    "    \n",
    "    # loading embeddings\n",
    "    with open(r'C:\\Users\\User\\Desktop\\text qna\\embeddings\\sentence_embeddings.json', \"r\") as json_file:\n",
    "        sentence_embeddings = json.load(json_file)\n",
    "    with open(r'C:\\Users\\User\\Desktop\\text qna\\embeddings\\paragraph_embeddings.json', \"r\") as json_file:\n",
    "        paragraph_embeddings = json.load(json_file)\n",
    "\n",
    "    # Calculate cosine similarity between query and sentences\n",
    "    scores = []\n",
    "    for embedding in list(sentence_embeddings.values()):\n",
    "        score = np.dot(query_embedding, embedding) / (np.linalg.norm(query_embedding) * np.linalg.norm(embedding))\n",
    "        scores.append(score)\n",
    "    # Rank documents based on similarity scores\n",
    "    results = np.argsort(scores)[::-1]\n",
    "    similar_sentences = ''\n",
    "    # Print top N search results\n",
    "    top_n = 10\n",
    "    for i in range(top_n):\n",
    "        result_idx = results[i]\n",
    "        score = scores[result_idx]\n",
    "        similar_sentences += list(sentence_embeddings.keys())[result_idx]\n",
    "        similar_sentences += ' '\n",
    "\n",
    "    # Calculate cosine similarity between query and paragraphs\n",
    "    scores = []\n",
    "    for embedding in list(paragraph_embeddings.values()):\n",
    "        score = np.dot(query_embedding, embedding) / (np.linalg.norm(query_embedding) * np.linalg.norm(embedding))\n",
    "        scores.append(score)\n",
    "    # Rank documents based on similarity scores\n",
    "    results = np.argsort(scores)[::-1]\n",
    "    similar_paragraphs = ''\n",
    "    # Print top N search results\n",
    "    top_n = 5\n",
    "    for i in range(top_n):\n",
    "        result_idx = results[i]\n",
    "        score = scores[result_idx]\n",
    "        similar_paragraphs += list(paragraph_embeddings.keys())[result_idx]\n",
    "        similar_paragraphs += ' '\n",
    "        \n",
    "    return similar_sentences, similar_paragraphs"
   ]
  },
  {
   "cell_type": "markdown",
   "metadata": {},
   "source": [
    "C. Empowering ChatGPT to Deliver Accurate Answers"
   ]
  },
  {
   "cell_type": "code",
   "execution_count": 4,
   "metadata": {},
   "outputs": [],
   "source": [
    "#Provide your openai api key\n",
    "openai.api_key = \"\"\n",
    "\n",
    "def ChatGPT(text):\n",
    "    chatgpt = openai.ChatCompletion.create(model=\"gpt-3.5-turbo\",messages=[{\"role\": \"assistant\", \"content\": text}])\n",
    "    answer =  chatgpt.choices[0].message\n",
    "    return answer.content"
   ]
  },
  {
   "cell_type": "markdown",
   "metadata": {},
   "source": [
    "Providing the Prompt to get the best answer from provided context"
   ]
  },
  {
   "cell_type": "code",
   "execution_count": 5,
   "metadata": {},
   "outputs": [],
   "source": [
    "def get_answer(query):\n",
    "    similar_sentences, similar_paragraphs = get_similar_sentence_paragraphs(query)\n",
    "    context = similar_sentences + similar_paragraphs\n",
    "    answer = ChatGPT(f'{context} Based on this preceeding information answer the question only, {query}')\n",
    "    return answer"
   ]
  },
  {
   "cell_type": "code",
   "execution_count": 10,
   "metadata": {},
   "outputs": [
    {
     "name": "stdout",
     "output_type": "stream",
     "text": [
      "Harry Potter is a wizard who just finished his first year at Hogwarts School of Witchcraft and Wizardry. He is warned by Dobby about a plot and is advised not to put himself in danger. Harry is also known for his encounter with Gilderoy Lockhart, who presents him with the entire works of Gilderoy Lockhart. He is also in Gryffindor House.\n"
     ]
    }
   ],
   "source": [
    "query = 'Who is Harry Potter?'\n",
    "answer = get_answer(query)\n",
    "print(answer)"
   ]
  },
  {
   "cell_type": "code",
   "execution_count": 11,
   "metadata": {},
   "outputs": [
    {
     "name": "stdout",
     "output_type": "stream",
     "text": [
      "The Chamber of Secrets is a hidden chamber within Hogwarts School of Witchcraft and Wizardry. It is said to hold a monster and can only be opened by the heir of Slytherin.\n"
     ]
    }
   ],
   "source": [
    "query = 'What is Chamber of Secrets?'\n",
    "answer = get_answer(query)\n",
    "print(answer)"
   ]
  },
  {
   "cell_type": "code",
   "execution_count": null,
   "metadata": {},
   "outputs": [],
   "source": []
  }
 ],
 "metadata": {
  "kernelspec": {
   "display_name": "Python 3 (ipykernel)",
   "language": "python",
   "name": "python3"
  },
  "language_info": {
   "codemirror_mode": {
    "name": "ipython",
    "version": 3
   },
   "file_extension": ".py",
   "mimetype": "text/x-python",
   "name": "python",
   "nbconvert_exporter": "python",
   "pygments_lexer": "ipython3",
   "version": "3.10.4"
  }
 },
 "nbformat": 4,
 "nbformat_minor": 2
}
